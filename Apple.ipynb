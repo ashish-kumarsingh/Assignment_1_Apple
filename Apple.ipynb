{
 "cells": [
  {
   "cell_type": "code",
   "execution_count": 1,
   "metadata": {},
   "outputs": [],
   "source": [
    "#Resources:\n",
    "#https://cloud.google.com/solutions/mobile/mobile-gaming-analysis-telemetry\n",
    "#https://www.tableau.com/academic/students#form\n",
    "#https://cloud.google.com/blog/products/gcp/new-google-cloud-platform-education-grants-offer-free-credits-to-students"
   ]
  },
  {
   "cell_type": "code",
   "execution_count": 1,
   "metadata": {},
   "outputs": [
    {
     "name": "stdout",
     "output_type": "stream",
     "text": [
      "Requirement already satisfied: google-cloud in c:\\users\\shahk\\anaconda3\\lib\\site-packages (0.34.0)\n",
      "Requirement already satisfied: google-cloud-pubsub in c:\\users\\shahk\\anaconda3\\lib\\site-packages (0.42.1)\n",
      "Requirement already satisfied: google-api-core[grpc]<2.0.0dev,>=1.12.0 in c:\\users\\shahk\\anaconda3\\lib\\site-packages (from google-cloud-pubsub) (1.13.0)\n",
      "Requirement already satisfied: grpc-google-iam-v1<0.12dev,>=0.11.4 in c:\\users\\shahk\\anaconda3\\lib\\site-packages (from google-cloud-pubsub) (0.11.4)\n",
      "Requirement already satisfied: google-auth<2.0dev,>=0.4.0 in c:\\users\\shahk\\anaconda3\\lib\\site-packages (from google-api-core[grpc]<2.0.0dev,>=1.12.0->google-cloud-pubsub) (1.6.3)\n",
      "Requirement already satisfied: six>=1.10.0 in c:\\users\\shahk\\anaconda3\\lib\\site-packages (from google-api-core[grpc]<2.0.0dev,>=1.12.0->google-cloud-pubsub) (1.12.0)\n",
      "Requirement already satisfied: setuptools>=34.0.0 in c:\\users\\shahk\\anaconda3\\lib\\site-packages (from google-api-core[grpc]<2.0.0dev,>=1.12.0->google-cloud-pubsub) (40.8.0)\n",
      "Requirement already satisfied: pytz in c:\\users\\shahk\\anaconda3\\lib\\site-packages (from google-api-core[grpc]<2.0.0dev,>=1.12.0->google-cloud-pubsub) (2018.9)\n",
      "Requirement already satisfied: googleapis-common-protos!=1.5.4,<2.0dev,>=1.5.3 in c:\\users\\shahk\\anaconda3\\lib\\site-packages (from google-api-core[grpc]<2.0.0dev,>=1.12.0->google-cloud-pubsub) (1.6.0)\n",
      "Requirement already satisfied: protobuf>=3.4.0 in c:\\users\\shahk\\anaconda3\\lib\\site-packages (from google-api-core[grpc]<2.0.0dev,>=1.12.0->google-cloud-pubsub) (3.7.1)\n",
      "Requirement already satisfied: requests<3.0.0dev,>=2.18.0 in c:\\users\\shahk\\anaconda3\\lib\\site-packages (from google-api-core[grpc]<2.0.0dev,>=1.12.0->google-cloud-pubsub) (2.21.0)\n",
      "Requirement already satisfied: grpcio<2.0dev,>=1.8.2; extra == \"grpc\" in c:\\users\\shahk\\anaconda3\\lib\\site-packages (from google-api-core[grpc]<2.0.0dev,>=1.12.0->google-cloud-pubsub) (1.19.0)\n",
      "Requirement already satisfied: cachetools>=2.0.0 in c:\\users\\shahk\\anaconda3\\lib\\site-packages (from google-auth<2.0dev,>=0.4.0->google-api-core[grpc]<2.0.0dev,>=1.12.0->google-cloud-pubsub) (3.1.1)\n",
      "Requirement already satisfied: rsa>=3.1.4 in c:\\users\\shahk\\anaconda3\\lib\\site-packages (from google-auth<2.0dev,>=0.4.0->google-api-core[grpc]<2.0.0dev,>=1.12.0->google-cloud-pubsub) (4.0)\n",
      "Requirement already satisfied: pyasn1-modules>=0.2.1 in c:\\users\\shahk\\anaconda3\\lib\\site-packages (from google-auth<2.0dev,>=0.4.0->google-api-core[grpc]<2.0.0dev,>=1.12.0->google-cloud-pubsub) (0.2.5)\n",
      "Requirement already satisfied: chardet<3.1.0,>=3.0.2 in c:\\users\\shahk\\anaconda3\\lib\\site-packages (from requests<3.0.0dev,>=2.18.0->google-api-core[grpc]<2.0.0dev,>=1.12.0->google-cloud-pubsub) (3.0.4)\n",
      "Requirement already satisfied: certifi>=2017.4.17 in c:\\users\\shahk\\anaconda3\\lib\\site-packages (from requests<3.0.0dev,>=2.18.0->google-api-core[grpc]<2.0.0dev,>=1.12.0->google-cloud-pubsub) (2019.3.9)\n",
      "Requirement already satisfied: urllib3<1.25,>=1.21.1 in c:\\users\\shahk\\anaconda3\\lib\\site-packages (from requests<3.0.0dev,>=2.18.0->google-api-core[grpc]<2.0.0dev,>=1.12.0->google-cloud-pubsub) (1.24.1)\n",
      "Requirement already satisfied: idna<2.9,>=2.5 in c:\\users\\shahk\\anaconda3\\lib\\site-packages (from requests<3.0.0dev,>=2.18.0->google-api-core[grpc]<2.0.0dev,>=1.12.0->google-cloud-pubsub) (2.8)\n",
      "Requirement already satisfied: pyasn1>=0.1.3 in c:\\users\\shahk\\anaconda3\\lib\\site-packages (from rsa>=3.1.4->google-auth<2.0dev,>=0.4.0->google-api-core[grpc]<2.0.0dev,>=1.12.0->google-cloud-pubsub) (0.4.5)\n",
      "Collecting google.cloud_bigquery\n",
      "  Using cached https://files.pythonhosted.org/packages/d7/72/e88edd9a0b3c16a7b2c4107b1a9d3ff182b84a29f051ae15293e1375d7fe/google_cloud_bigquery-1.17.0-py2.py3-none-any.whl\n",
      "Requirement already satisfied: google-resumable-media>=0.3.1 in c:\\users\\shahk\\anaconda3\\lib\\site-packages (from google.cloud_bigquery) (0.3.2)\n",
      "Requirement already satisfied: google-cloud-core<2.0dev,>=1.0.0 in c:\\users\\shahk\\anaconda3\\lib\\site-packages (from google.cloud_bigquery) (1.0.2)\n",
      "Requirement already satisfied: protobuf>=3.6.0 in c:\\users\\shahk\\anaconda3\\lib\\site-packages (from google.cloud_bigquery) (3.7.1)\n",
      "Requirement already satisfied: six in c:\\users\\shahk\\anaconda3\\lib\\site-packages (from google-resumable-media>=0.3.1->google.cloud_bigquery) (1.12.0)\n",
      "Requirement already satisfied: google-api-core<2.0.0dev,>=1.11.0 in c:\\users\\shahk\\anaconda3\\lib\\site-packages (from google-cloud-core<2.0dev,>=1.0.0->google.cloud_bigquery) (1.13.0)\n",
      "Requirement already satisfied: setuptools in c:\\users\\shahk\\anaconda3\\lib\\site-packages (from protobuf>=3.6.0->google.cloud_bigquery) (40.8.0)\n",
      "Requirement already satisfied: pytz in c:\\users\\shahk\\anaconda3\\lib\\site-packages (from google-api-core<2.0.0dev,>=1.11.0->google-cloud-core<2.0dev,>=1.0.0->google.cloud_bigquery) (2018.9)\n",
      "Requirement already satisfied: requests<3.0.0dev,>=2.18.0 in c:\\users\\shahk\\anaconda3\\lib\\site-packages (from google-api-core<2.0.0dev,>=1.11.0->google-cloud-core<2.0dev,>=1.0.0->google.cloud_bigquery) (2.21.0)\n",
      "Requirement already satisfied: googleapis-common-protos!=1.5.4,<2.0dev,>=1.5.3 in c:\\users\\shahk\\anaconda3\\lib\\site-packages (from google-api-core<2.0.0dev,>=1.11.0->google-cloud-core<2.0dev,>=1.0.0->google.cloud_bigquery) (1.6.0)\n",
      "Requirement already satisfied: google-auth<2.0dev,>=0.4.0 in c:\\users\\shahk\\anaconda3\\lib\\site-packages (from google-api-core<2.0.0dev,>=1.11.0->google-cloud-core<2.0dev,>=1.0.0->google.cloud_bigquery) (1.6.3)\n",
      "Requirement already satisfied: urllib3<1.25,>=1.21.1 in c:\\users\\shahk\\anaconda3\\lib\\site-packages (from requests<3.0.0dev,>=2.18.0->google-api-core<2.0.0dev,>=1.11.0->google-cloud-core<2.0dev,>=1.0.0->google.cloud_bigquery) (1.24.1)\n",
      "Requirement already satisfied: chardet<3.1.0,>=3.0.2 in c:\\users\\shahk\\anaconda3\\lib\\site-packages (from requests<3.0.0dev,>=2.18.0->google-api-core<2.0.0dev,>=1.11.0->google-cloud-core<2.0dev,>=1.0.0->google.cloud_bigquery) (3.0.4)\n",
      "Requirement already satisfied: idna<2.9,>=2.5 in c:\\users\\shahk\\anaconda3\\lib\\site-packages (from requests<3.0.0dev,>=2.18.0->google-api-core<2.0.0dev,>=1.11.0->google-cloud-core<2.0dev,>=1.0.0->google.cloud_bigquery) (2.8)\n",
      "Requirement already satisfied: certifi>=2017.4.17 in c:\\users\\shahk\\anaconda3\\lib\\site-packages (from requests<3.0.0dev,>=2.18.0->google-api-core<2.0.0dev,>=1.11.0->google-cloud-core<2.0dev,>=1.0.0->google.cloud_bigquery) (2019.3.9)\n",
      "Requirement already satisfied: cachetools>=2.0.0 in c:\\users\\shahk\\anaconda3\\lib\\site-packages (from google-auth<2.0dev,>=0.4.0->google-api-core<2.0.0dev,>=1.11.0->google-cloud-core<2.0dev,>=1.0.0->google.cloud_bigquery) (3.1.1)\n",
      "Requirement already satisfied: pyasn1-modules>=0.2.1 in c:\\users\\shahk\\anaconda3\\lib\\site-packages (from google-auth<2.0dev,>=0.4.0->google-api-core<2.0.0dev,>=1.11.0->google-cloud-core<2.0dev,>=1.0.0->google.cloud_bigquery) (0.2.5)\n",
      "Requirement already satisfied: rsa>=3.1.4 in c:\\users\\shahk\\anaconda3\\lib\\site-packages (from google-auth<2.0dev,>=0.4.0->google-api-core<2.0.0dev,>=1.11.0->google-cloud-core<2.0dev,>=1.0.0->google.cloud_bigquery) (4.0)\n",
      "Requirement already satisfied: pyasn1<0.5.0,>=0.4.1 in c:\\users\\shahk\\anaconda3\\lib\\site-packages (from pyasn1-modules>=0.2.1->google-auth<2.0dev,>=0.4.0->google-api-core<2.0.0dev,>=1.11.0->google-cloud-core<2.0dev,>=1.0.0->google.cloud_bigquery) (0.4.5)\n",
      "Installing collected packages: google.cloud-bigquery\n",
      "Successfully installed google.cloud-bigquery\n",
      "Collecting google.cloud_storage\n",
      "  Using cached https://files.pythonhosted.org/packages/e2/4e/aee59b19321eb1063317c2e6fa4c2f3cfe21740586de78578eedbd2bed3d/google_cloud_storage-1.16.1-py2.py3-none-any.whl\n",
      "Requirement already satisfied: google-cloud-core<2.0dev,>=1.0.0 in c:\\users\\shahk\\anaconda3\\lib\\site-packages (from google.cloud_storage) (1.0.2)\n",
      "Requirement already satisfied: google-resumable-media>=0.3.1 in c:\\users\\shahk\\anaconda3\\lib\\site-packages (from google.cloud_storage) (0.3.2)\n",
      "Requirement already satisfied: google-auth>=1.2.0 in c:\\users\\shahk\\anaconda3\\lib\\site-packages (from google.cloud_storage) (1.6.3)\n",
      "Requirement already satisfied: google-api-core<2.0.0dev,>=1.11.0 in c:\\users\\shahk\\anaconda3\\lib\\site-packages (from google-cloud-core<2.0dev,>=1.0.0->google.cloud_storage) (1.13.0)\n",
      "Requirement already satisfied: six in c:\\users\\shahk\\anaconda3\\lib\\site-packages (from google-resumable-media>=0.3.1->google.cloud_storage) (1.12.0)\n",
      "Requirement already satisfied: pyasn1-modules>=0.2.1 in c:\\users\\shahk\\anaconda3\\lib\\site-packages (from google-auth>=1.2.0->google.cloud_storage) (0.2.5)\n",
      "Requirement already satisfied: cachetools>=2.0.0 in c:\\users\\shahk\\anaconda3\\lib\\site-packages (from google-auth>=1.2.0->google.cloud_storage) (3.1.1)\n",
      "Requirement already satisfied: rsa>=3.1.4 in c:\\users\\shahk\\anaconda3\\lib\\site-packages (from google-auth>=1.2.0->google.cloud_storage) (4.0)\n",
      "Requirement already satisfied: setuptools>=34.0.0 in c:\\users\\shahk\\anaconda3\\lib\\site-packages (from google-api-core<2.0.0dev,>=1.11.0->google-cloud-core<2.0dev,>=1.0.0->google.cloud_storage) (40.8.0)\n",
      "Requirement already satisfied: requests<3.0.0dev,>=2.18.0 in c:\\users\\shahk\\anaconda3\\lib\\site-packages (from google-api-core<2.0.0dev,>=1.11.0->google-cloud-core<2.0dev,>=1.0.0->google.cloud_storage) (2.21.0)\n",
      "Requirement already satisfied: pytz in c:\\users\\shahk\\anaconda3\\lib\\site-packages (from google-api-core<2.0.0dev,>=1.11.0->google-cloud-core<2.0dev,>=1.0.0->google.cloud_storage) (2018.9)\n",
      "Requirement already satisfied: googleapis-common-protos!=1.5.4,<2.0dev,>=1.5.3 in c:\\users\\shahk\\anaconda3\\lib\\site-packages (from google-api-core<2.0.0dev,>=1.11.0->google-cloud-core<2.0dev,>=1.0.0->google.cloud_storage) (1.6.0)\n",
      "Requirement already satisfied: protobuf>=3.4.0 in c:\\users\\shahk\\anaconda3\\lib\\site-packages (from google-api-core<2.0.0dev,>=1.11.0->google-cloud-core<2.0dev,>=1.0.0->google.cloud_storage) (3.7.1)\n",
      "Requirement already satisfied: pyasn1<0.5.0,>=0.4.1 in c:\\users\\shahk\\anaconda3\\lib\\site-packages (from pyasn1-modules>=0.2.1->google-auth>=1.2.0->google.cloud_storage) (0.4.5)\n",
      "Requirement already satisfied: chardet<3.1.0,>=3.0.2 in c:\\users\\shahk\\anaconda3\\lib\\site-packages (from requests<3.0.0dev,>=2.18.0->google-api-core<2.0.0dev,>=1.11.0->google-cloud-core<2.0dev,>=1.0.0->google.cloud_storage) (3.0.4)\n",
      "Requirement already satisfied: urllib3<1.25,>=1.21.1 in c:\\users\\shahk\\anaconda3\\lib\\site-packages (from requests<3.0.0dev,>=2.18.0->google-api-core<2.0.0dev,>=1.11.0->google-cloud-core<2.0dev,>=1.0.0->google.cloud_storage) (1.24.1)\n",
      "Requirement already satisfied: certifi>=2017.4.17 in c:\\users\\shahk\\anaconda3\\lib\\site-packages (from requests<3.0.0dev,>=2.18.0->google-api-core<2.0.0dev,>=1.11.0->google-cloud-core<2.0dev,>=1.0.0->google.cloud_storage) (2019.3.9)\n",
      "Requirement already satisfied: idna<2.9,>=2.5 in c:\\users\\shahk\\anaconda3\\lib\\site-packages (from requests<3.0.0dev,>=2.18.0->google-api-core<2.0.0dev,>=1.11.0->google-cloud-core<2.0dev,>=1.0.0->google.cloud_storage) (2.8)\n",
      "Installing collected packages: google.cloud-storage\n",
      "Successfully installed google.cloud-storage\n"
     ]
    }
   ],
   "source": [
    "#!pip install google-cloud\n",
    "#!pip install google-cloud-pubsub\n",
    "#!pip install google.cloud_bigquery\n",
    "#!pip install google.cloud_storage"
   ]
  },
  {
   "cell_type": "code",
   "execution_count": 1,
   "metadata": {},
   "outputs": [],
   "source": [
    "from google.oauth2 import service_account #For GCP Account connection\n",
    "from google.cloud import pubsub_v1 # For PubSub Client\n",
    "from google.cloud import bigquery # For BigQuery Client\n",
    "from google.cloud import storage # For Cloud Storage Client\n",
    "import json # For Message syntax"
   ]
  },
  {
   "cell_type": "code",
   "execution_count": 2,
   "metadata": {},
   "outputs": [],
   "source": [
    "#Setting up the credential file\n",
    "cred = service_account.Credentials.from_service_account_file('C:/Users/shahk/OneDrive/Desktop/Dataset and Schema/AppleCred.json')"
   ]
  },
  {
   "cell_type": "code",
   "execution_count": 3,
   "metadata": {},
   "outputs": [
    {
     "name": "stdout",
     "output_type": "stream",
     "text": [
      "<google.oauth2.service_account.Credentials object at 0x00000229E035EF98>\n"
     ]
    }
   ],
   "source": [
    "print(cred)"
   ]
  },
  {
   "cell_type": "code",
   "execution_count": 4,
   "metadata": {},
   "outputs": [],
   "source": [
    "#Setting up the Configuration Variables:\n",
    "project_id = \"team-246422\"\n",
    "bucket_name = \"applebucket\"\n",
    "topic_name = \"AppleRevenue\"\n",
    "subscription_name = \"AppleRevenue\"\n",
    "dataset_name = \"Apple\"\n",
    "table_name = \"Revenue\""
   ]
  },
  {
   "cell_type": "code",
   "execution_count": 5,
   "metadata": {},
   "outputs": [],
   "source": [
    "#Realtime publish\n",
    "\n",
    "import pandas as pd\n",
    "import numpy as np"
   ]
  },
  {
   "cell_type": "code",
   "execution_count": 6,
   "metadata": {},
   "outputs": [],
   "source": [
    "data_file = r'Dataset and Schema\\Dataset and Schema\\revenue-2013-2018.xlsx'"
   ]
  },
  {
   "cell_type": "code",
   "execution_count": 7,
   "metadata": {},
   "outputs": [],
   "source": [
    "data = pd.read_excel(data_file)"
   ]
  },
  {
   "cell_type": "code",
   "execution_count": 8,
   "metadata": {},
   "outputs": [
    {
     "data": {
      "text/plain": [
       "(2, 3)"
      ]
     },
     "execution_count": 8,
     "metadata": {},
     "output_type": "execute_result"
    }
   ],
   "source": [
    "data.shape"
   ]
  },
  {
   "cell_type": "code",
   "execution_count": 9,
   "metadata": {},
   "outputs": [
    {
     "data": {
      "text/html": [
       "<div>\n",
       "<style scoped>\n",
       "    .dataframe tbody tr th:only-of-type {\n",
       "        vertical-align: middle;\n",
       "    }\n",
       "\n",
       "    .dataframe tbody tr th {\n",
       "        vertical-align: top;\n",
       "    }\n",
       "\n",
       "    .dataframe thead th {\n",
       "        text-align: right;\n",
       "    }\n",
       "</style>\n",
       "<table border=\"1\" class=\"dataframe\">\n",
       "  <thead>\n",
       "    <tr style=\"text-align: right;\">\n",
       "      <th></th>\n",
       "      <th>Year</th>\n",
       "      <th>Revenue_Spotify</th>\n",
       "      <th>Revenue_Apple</th>\n",
       "    </tr>\n",
       "  </thead>\n",
       "  <tbody>\n",
       "    <tr>\n",
       "      <th>0</th>\n",
       "      <td>2019</td>\n",
       "      <td>100</td>\n",
       "      <td>0</td>\n",
       "    </tr>\n",
       "    <tr>\n",
       "      <th>1</th>\n",
       "      <td>2020</td>\n",
       "      <td>200</td>\n",
       "      <td>0</td>\n",
       "    </tr>\n",
       "  </tbody>\n",
       "</table>\n",
       "</div>"
      ],
      "text/plain": [
       "   Year  Revenue_Spotify  Revenue_Apple\n",
       "0  2019              100              0\n",
       "1  2020              200              0"
      ]
     },
     "execution_count": 9,
     "metadata": {},
     "output_type": "execute_result"
    }
   ],
   "source": [
    "data.head()"
   ]
  },
  {
   "cell_type": "code",
   "execution_count": 10,
   "metadata": {},
   "outputs": [],
   "source": [
    "def default(o):\n",
    "    if isinstance(o, np.int64): return int(o)  \n",
    "    raise TypeError"
   ]
  },
  {
   "cell_type": "code",
   "execution_count": 11,
   "metadata": {},
   "outputs": [],
   "source": [
    "publisher = pubsub_v1.PublisherClient(credentials=cred)"
   ]
  },
  {
   "cell_type": "code",
   "execution_count": 12,
   "metadata": {},
   "outputs": [
    {
     "name": "stdout",
     "output_type": "stream",
     "text": [
      "projects/team-246422/topics/AppleRevenue\n"
     ]
    }
   ],
   "source": [
    "client = pubsub_v1.PublisherClient(credentials=cred)\n",
    "topic_path = publisher.topic_path(project_id, topic_name)\n",
    "print(topic_path)"
   ]
  },
  {
   "cell_type": "code",
   "execution_count": 13,
   "metadata": {},
   "outputs": [],
   "source": [
    "subscriber = pubsub_v1.SubscriberClient(credentials = cred)\n",
    "topic_path = subscriber.topic_path(project_id, topic_name)\n",
    "subscription_path = subscriber.subscription_path(project_id, subscription_name)"
   ]
  },
  {
   "cell_type": "code",
   "execution_count": 14,
   "metadata": {},
   "outputs": [
    {
     "name": "stdout",
     "output_type": "stream",
     "text": [
      "b'{\"Year\": 2019, \"Revenue_Spotify\": 100, \"Revenue_Apple\": 0}'\n",
      "<google.cloud.pubsub_v1.publisher.futures.Future object at 0x00000229E0520C18>\n",
      "b'{\"Year\": 2020, \"Revenue_Spotify\": 200, \"Revenue_Apple\": 0}'\n",
      "<google.cloud.pubsub_v1.publisher.futures.Future object at 0x00000229E0520E10>\n"
     ]
    }
   ],
   "source": [
    "for i in range(0,Data.shape[0]):\n",
    "    year = data['Year'][i]\n",
    "    revenue_sp = data['Revenue_Spotify'][i]\n",
    "    revenue_ap = data['Revenue_Apple'][i]\n",
    "    \n",
    "    \n",
    "    data_row = {\"Year\":year,\"Revenue_Spotify\":revenue_sp,\"Revenue_Apple\":revenue_ap}\n",
    "    #print(data_row)\n",
    "    message_data = json.dumps(data_row, default=default)\n",
    "    message_data = message_data.encode('utf-8')\n",
    "    \n",
    "    \n",
    "\n",
    "    print(message_data)\n",
    "    #Publishing a message on the PubSub Topic Created:\n",
    "    response = publisher.publish(topic_path, message_data , origin='python-sample')\n",
    "    print(response)"
   ]
  },
  {
   "cell_type": "code",
   "execution_count": 15,
   "metadata": {},
   "outputs": [
    {
     "data": {
      "text/plain": [
       "'434478836056835'"
      ]
     },
     "execution_count": 15,
     "metadata": {},
     "output_type": "execute_result"
    }
   ],
   "source": [
    "response.result()"
   ]
  },
  {
   "cell_type": "code",
   "execution_count": 18,
   "metadata": {},
   "outputs": [],
   "source": [
    "#message_data"
   ]
  },
  {
   "cell_type": "code",
   "execution_count": 12,
   "metadata": {},
   "outputs": [],
   "source": [
    "#topics = publisher.list_topics('team-246422')"
   ]
  },
  {
   "cell_type": "code",
   "execution_count": 1,
   "metadata": {},
   "outputs": [
    {
     "ename": "NameError",
     "evalue": "name 'topic' is not defined",
     "output_type": "error",
     "traceback": [
      "\u001b[1;31m---------------------------------------------------------------------------\u001b[0m",
      "\u001b[1;31mNameError\u001b[0m                                 Traceback (most recent call last)",
      "\u001b[1;32m<ipython-input-1-1f955adc2ddb>\u001b[0m in \u001b[0;36m<module>\u001b[1;34m\u001b[0m\n\u001b[1;32m----> 1\u001b[1;33m \u001b[0mprint\u001b[0m\u001b[1;33m(\u001b[0m\u001b[1;34m'Topic created: {}'\u001b[0m\u001b[1;33m.\u001b[0m\u001b[0mformat\u001b[0m\u001b[1;33m(\u001b[0m\u001b[0mtopic\u001b[0m\u001b[1;33m)\u001b[0m\u001b[1;33m)\u001b[0m\u001b[1;33m\u001b[0m\u001b[1;33m\u001b[0m\u001b[0m\n\u001b[0m",
      "\u001b[1;31mNameError\u001b[0m: name 'topic' is not defined"
     ]
    }
   ],
   "source": [
    "#print('Topic created: {}'.format(topic))"
   ]
  },
  {
   "cell_type": "code",
   "execution_count": null,
   "metadata": {},
   "outputs": [],
   "source": []
  }
 ],
 "metadata": {
  "kernelspec": {
   "display_name": "Python 3",
   "language": "python",
   "name": "python3"
  },
  "language_info": {
   "codemirror_mode": {
    "name": "ipython",
    "version": 3
   },
   "file_extension": ".py",
   "mimetype": "text/x-python",
   "name": "python",
   "nbconvert_exporter": "python",
   "pygments_lexer": "ipython3",
   "version": "3.6.8"
  }
 },
 "nbformat": 4,
 "nbformat_minor": 2
}
